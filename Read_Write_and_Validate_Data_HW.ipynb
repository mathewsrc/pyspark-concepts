{
  "cells": [
    {
      "cell_type": "markdown",
      "metadata": {
        "id": "view-in-github",
        "colab_type": "text"
      },
      "source": [
        "<a href=\"https://colab.research.google.com/github/punkmic/pyspark-concepts/blob/master/Read_Write_and_Validate_Data_HW.ipynb\" target=\"_parent\"><img src=\"https://colab.research.google.com/assets/colab-badge.svg\" alt=\"Open In Colab\"/></a>"
      ]
    },
    {
      "cell_type": "markdown",
      "metadata": {
        "id": "CP-XVPhsfUM-"
      },
      "source": [
        "# Reading, Writing and Validating Data in PySpark HW\n",
        "\n",
        "Welcome to your first coding homework assignment in PySpark! I hope you enjoyed the lecture on Reading, Writing and Validating dataframes. Now it's time to put what you've learned into action! \n",
        "\n",
        "I've included several instructions below to help guide you through this homework assignment which I hope will get you feeling even comfortable reading, writing and validating dataframes. If you get stuck at any point, feel free to jump to the next lecture where I will guide you through my solutions to the HW assignment. \n",
        "\n",
        "Have fun!\n",
        "\n",
        "Let's dig right in!\n",
        "\n",
        "\n",
        "## But first things first.....\n",
        "We need to always begin every Spark session by creating a Spark instance. Let's go ahead and use the method we learned in the lecture in the cell below. Also see if you can remember how to open the Spark UI (using a link that automatically guides you there). "
      ]
    },
    {
      "cell_type": "code",
      "execution_count": 3,
      "metadata": {
        "id": "AoA1kmJcfUNE"
      },
      "outputs": [],
      "source": [
        "try:\n",
        "  import pyspark\n",
        "  from pyspark.sql import SparkSession\n",
        "except:\n",
        "  !pip install pyspark\n",
        "  import pyspark"
      ]
    },
    {
      "cell_type": "code",
      "source": [
        "spark = SparkSession.builder.appName('spark').getOrCreate()"
      ],
      "metadata": {
        "id": "TiHeCA3AgAo5"
      },
      "execution_count": 4,
      "outputs": []
    },
    {
      "cell_type": "code",
      "source": [
        "cores = spark._jsc.sc().getExecutorMemoryStatus().keySet().size()\n",
        "print(f'Cores: {cores}')"
      ],
      "metadata": {
        "colab": {
          "base_uri": "https://localhost:8080/"
        },
        "id": "clysug4FgqOX",
        "outputId": "54eb2c50-2c5b-4abc-a54b-f481d98710ae"
      },
      "execution_count": 6,
      "outputs": [
        {
          "output_type": "stream",
          "name": "stdout",
          "text": [
            "Cores: 1\n"
          ]
        }
      ]
    },
    {
      "cell_type": "code",
      "source": [
        "spark"
      ],
      "metadata": {
        "colab": {
          "base_uri": "https://localhost:8080/",
          "height": 219
        },
        "id": "9JZi-oFvhUNu",
        "outputId": "9e29683c-af00-4afe-bedd-c400d8b3e17b"
      },
      "execution_count": 9,
      "outputs": [
        {
          "output_type": "execute_result",
          "data": {
            "text/plain": [
              "<pyspark.sql.session.SparkSession at 0x7f8c3e4dc520>"
            ],
            "text/html": [
              "\n",
              "            <div>\n",
              "                <p><b>SparkSession - in-memory</b></p>\n",
              "                \n",
              "        <div>\n",
              "            <p><b>SparkContext</b></p>\n",
              "\n",
              "            <p><a href=\"http://cf874758cb42:4040\">Spark UI</a></p>\n",
              "\n",
              "            <dl>\n",
              "              <dt>Version</dt>\n",
              "                <dd><code>v3.3.1</code></dd>\n",
              "              <dt>Master</dt>\n",
              "                <dd><code>local[*]</code></dd>\n",
              "              <dt>AppName</dt>\n",
              "                <dd><code>spark</code></dd>\n",
              "            </dl>\n",
              "        </div>\n",
              "        \n",
              "            </div>\n",
              "        "
            ]
          },
          "metadata": {},
          "execution_count": 9
        }
      ]
    },
    {
      "cell_type": "markdown",
      "metadata": {
        "id": "I72XcrbufUNF"
      },
      "source": [
        "## Next let's start by reading a basic csv dataset\n",
        "\n",
        "Download the pga_tour_historical dataset that is attached to this lecture and save it whatever folder you want, then read it in. \n",
        "\n",
        "**Data Source:** https://www.kaggle.com/bradklassen/pga-tour-20102018-data\n",
        "\n",
        "Rememer to try letting Spark infer the header and infer the Schema types!"
      ]
    },
    {
      "cell_type": "code",
      "execution_count": 10,
      "metadata": {
        "id": "vuy2you8fUNG"
      },
      "outputs": [],
      "source": [
        "path = '/content/pga_tour_historical.csv'\n",
        "pga = spark.read.csv(path=path, inferSchema=True, header=True)"
      ]
    },
    {
      "cell_type": "markdown",
      "metadata": {
        "id": "kKjhbCVIfUNG"
      },
      "source": [
        "## 1. View first 5 lines of dataframe\n",
        "First generate a view of the first 5 lines of the dataframe to get an idea of what is inside. We went over two ways of doing this... see if you can remember BOTH ways. "
      ]
    },
    {
      "cell_type": "code",
      "execution_count": 11,
      "metadata": {
        "colab": {
          "base_uri": "https://localhost:8080/"
        },
        "id": "T4rU7icUfUNH",
        "outputId": "406268a6-6998-484e-d1fa-c59d39245831"
      },
      "outputs": [
        {
          "output_type": "stream",
          "name": "stdout",
          "text": [
            "+---------------+------+----------------+--------------------+-----+\n",
            "|    Player Name|Season|       Statistic|            Variable|Value|\n",
            "+---------------+------+----------------+--------------------+-----+\n",
            "|Robert Garrigus|  2010|Driving Distance|Driving Distance ...|   71|\n",
            "|   Bubba Watson|  2010|Driving Distance|Driving Distance ...|   77|\n",
            "| Dustin Johnson|  2010|Driving Distance|Driving Distance ...|   83|\n",
            "|Brett Wetterich|  2010|Driving Distance|Driving Distance ...|   54|\n",
            "|    J.B. Holmes|  2010|Driving Distance|Driving Distance ...|  100|\n",
            "|      John Daly|  2010|Driving Distance|Driving Distance ...|   63|\n",
            "|  Graham DeLaet|  2010|Driving Distance|Driving Distance ...|   88|\n",
            "|  Angel Cabrera|  2010|Driving Distance|Driving Distance ...|   64|\n",
            "| Charles Warren|  2010|Driving Distance|Driving Distance ...|   64|\n",
            "|    D.J. Trahan|  2010|Driving Distance|Driving Distance ...|   92|\n",
            "|  Martin Flores|  2010|Driving Distance|Driving Distance ...|   75|\n",
            "|   Rory McIlroy|  2010|Driving Distance|Driving Distance ...|   54|\n",
            "| Phil Mickelson|  2010|Driving Distance|Driving Distance ...|   76|\n",
            "| Aaron Baddeley|  2010|Driving Distance|Driving Distance ...|   94|\n",
            "|      Jason Day|  2010|Driving Distance|Driving Distance ...|   82|\n",
            "|Charley Hoffman|  2010|Driving Distance|Driving Distance ...|   85|\n",
            "| Davis Love III|  2010|Driving Distance|Driving Distance ...|   79|\n",
            "|   Jeff Overton|  2010|Driving Distance|Driving Distance ...|   89|\n",
            "|   Scott Piercy|  2010|Driving Distance|Driving Distance ...|   88|\n",
            "|   Martin Laird|  2010|Driving Distance|Driving Distance ...|   91|\n",
            "+---------------+------+----------------+--------------------+-----+\n",
            "only showing top 20 rows\n",
            "\n"
          ]
        }
      ],
      "source": [
        "pga.show()"
      ]
    },
    {
      "cell_type": "markdown",
      "metadata": {
        "id": "oNXuEjQ5fUNI"
      },
      "source": [
        "## 2. Print the schema details\n",
        "\n",
        "Now print the details of the dataframes schema that Spark infered to ensure that it was infered correctly. Sometimes it is not infered correctly, so we need to watch out!"
      ]
    },
    {
      "cell_type": "code",
      "execution_count": 14,
      "metadata": {
        "colab": {
          "base_uri": "https://localhost:8080/"
        },
        "id": "K_eJIRolfUNJ",
        "outputId": "8022b5c8-8cb4-4b3f-92b7-f61256975bc9"
      },
      "outputs": [
        {
          "output_type": "stream",
          "name": "stdout",
          "text": [
            "root\n",
            " |-- Player Name: string (nullable = true)\n",
            " |-- Season: integer (nullable = true)\n",
            " |-- Statistic: string (nullable = true)\n",
            " |-- Variable: string (nullable = true)\n",
            " |-- Value: string (nullable = true)\n",
            "\n",
            "Schema: None\n",
            "\n",
            "Columns: ['Player Name', 'Season', 'Statistic', 'Variable', 'Value']\n"
          ]
        }
      ],
      "source": [
        "print(f'Schema: {pga.printSchema()}')\n",
        "print(f'\\nColumns: {pga.columns}')"
      ]
    },
    {
      "cell_type": "markdown",
      "metadata": {
        "id": "hdAW87X-fUNJ"
      },
      "source": [
        "## 3. Edit the schema during the read in\n",
        "\n",
        "We can see from the output above that Spark did not correctly infer that the \"value\" column was an integer value. Let's try specifying the schema this time to let spark know what the schema should be.\n",
        "\n",
        "Here is a link to see a list of PySpark data types in case you need it (also attached to the lecture): \n",
        "https://spark.apache.org/docs/latest/sql-ref-datatypes.html"
      ]
    },
    {
      "cell_type": "code",
      "execution_count": 15,
      "metadata": {
        "id": "WL6B23h4fUNK"
      },
      "outputs": [],
      "source": [
        "from pyspark.sql.types import StructField, StringType, IntegerType, StructType"
      ]
    },
    {
      "cell_type": "code",
      "source": [
        "data_schema = [StructField('Player Name', StringType(), True),\n",
        "               StructField('Season', IntegerType(), True),\n",
        "               StructField('Statistic', StringType(), True),\n",
        "               StructField('Variable', StringType(), True),\n",
        "               StructField('Value', IntegerType(), True)]"
      ],
      "metadata": {
        "id": "A-He04_TjJK7"
      },
      "execution_count": 17,
      "outputs": []
    },
    {
      "cell_type": "code",
      "source": [
        "final_schema = StructType(fields=data_schema)"
      ],
      "metadata": {
        "id": "4XHeDfX2j05h"
      },
      "execution_count": 20,
      "outputs": []
    },
    {
      "cell_type": "code",
      "source": [
        "pga = spark.read.csv(path=path, schema=final_schema)"
      ],
      "metadata": {
        "id": "U-rUHiTKkFNk"
      },
      "execution_count": 21,
      "outputs": []
    },
    {
      "cell_type": "code",
      "source": [
        "pga.printSchema()"
      ],
      "metadata": {
        "colab": {
          "base_uri": "https://localhost:8080/"
        },
        "id": "ce5j9YDDkNOC",
        "outputId": "7f61bd4f-52d3-46f7-8d17-5f08c0417319"
      },
      "execution_count": 23,
      "outputs": [
        {
          "output_type": "stream",
          "name": "stdout",
          "text": [
            "root\n",
            " |-- Player Name: string (nullable = true)\n",
            " |-- Season: integer (nullable = true)\n",
            " |-- Statistic: string (nullable = true)\n",
            " |-- Variable: string (nullable = true)\n",
            " |-- Value: integer (nullable = true)\n",
            "\n"
          ]
        }
      ]
    },
    {
      "cell_type": "markdown",
      "metadata": {
        "id": "HiEhE0i7fUNL"
      },
      "source": [
        "## 4. Generate summary statistics for only one variable\n",
        "\n",
        "See if you can generate summary statistics for only the \"Value\" column using the .describe function\n",
        "\n",
        "(count, mean, stddev, min, max) "
      ]
    },
    {
      "cell_type": "code",
      "execution_count": 25,
      "metadata": {
        "colab": {
          "base_uri": "https://localhost:8080/"
        },
        "id": "HlvY_OwqfUNL",
        "outputId": "1d3bef3e-7d27-4165-96bb-ce557041f150"
      },
      "outputs": [
        {
          "output_type": "stream",
          "name": "stdout",
          "text": [
            "+-------+------------------+\n",
            "|summary|             Value|\n",
            "+-------+------------------+\n",
            "|  count|           1471110|\n",
            "|   mean|12353.530796473411|\n",
            "| stddev|156400.06424154204|\n",
            "|    min|              -178|\n",
            "|    max|           3564954|\n",
            "+-------+------------------+\n",
            "\n"
          ]
        }
      ],
      "source": [
        "pga.describe(['Value']).show()"
      ]
    },
    {
      "cell_type": "markdown",
      "metadata": {
        "id": "DHf1foaDfUNL"
      },
      "source": [
        "## 5. Generate summary statistics for TWO variables\n",
        "Now try to generate ONLY the count min and max for BOTH the \"Value\" and \"Season\" variable using the select. You can't use the .describe function for this one but see if you can remember which function you CAN use. "
      ]
    },
    {
      "cell_type": "code",
      "execution_count": 26,
      "metadata": {
        "colab": {
          "base_uri": "https://localhost:8080/"
        },
        "id": "hqMcEcOvfUNM",
        "outputId": "006eb3be-3a9e-4711-d52c-969e1a0e3438"
      },
      "outputs": [
        {
          "output_type": "stream",
          "name": "stdout",
          "text": [
            "+-------+-------+-------+\n",
            "|summary|  Value| Season|\n",
            "+-------+-------+-------+\n",
            "|  count|1471110|2435377|\n",
            "|    max|3564954|   2018|\n",
            "|    min|   -178|   2010|\n",
            "+-------+-------+-------+\n",
            "\n"
          ]
        }
      ],
      "source": [
        "pga.select('Value', 'Season').summary(\"count\", \"max\", \"min\").show()"
      ]
    },
    {
      "cell_type": "markdown",
      "metadata": {
        "id": "gao-tA0YfUNM"
      },
      "source": [
        "## 6. Write a parquet file\n",
        "\n",
        "Now try writing a parquet file (not partitioned) from the pga dataset. But first create a new dataframe containing ONLY the the \"Season\" and \"Value\" fields (using the \"select command you used in the question above) and write a parquet file partitioned by \"Season\". This is a bit of a challenge aimed at getting you ready for material that will be covered later on in the course. Don't feel bad if you can't figure it out.\n",
        "\n",
        "*Note that if any of your variable names contain spaces, spark will produce an error message with this call. That is why we are selecting ONLY the \"Season\" and \"Value\" fields. Ideally we should renamed those columns but we haven't gotten to that yet in this course but we will soon!*"
      ]
    },
    {
      "cell_type": "code",
      "execution_count": 33,
      "metadata": {
        "colab": {
          "base_uri": "https://localhost:8080/"
        },
        "id": "78-j93JzfUNN",
        "outputId": "2e3055d9-ce54-432d-d3b9-f186b0797900"
      },
      "outputs": [
        {
          "output_type": "stream",
          "name": "stdout",
          "text": [
            "+------+-----+\n",
            "|Season|Value|\n",
            "+------+-----+\n",
            "|  null| null|\n",
            "|  2010|   71|\n",
            "|  2010|   77|\n",
            "+------+-----+\n",
            "only showing top 3 rows\n",
            "\n"
          ]
        }
      ],
      "source": [
        "df = pga.select('Season', 'Value')\n",
        "df.write.mode('overwrite').parquet('partition_parquet/')\n",
        "df.show(3)"
      ]
    },
    {
      "cell_type": "markdown",
      "metadata": {
        "id": "IYHNhN76fUNN"
      },
      "source": [
        "## 7. Write a partioned parquet file\n",
        "\n",
        "You will need to use the same limited dataframe that you created in the previous question to accomplish this task as well. "
      ]
    },
    {
      "cell_type": "code",
      "execution_count": 34,
      "metadata": {
        "colab": {
          "base_uri": "https://localhost:8080/"
        },
        "id": "qkffTP2gfUNN",
        "outputId": "60922eee-0a4d-4ad5-9299-c863baeade64"
      },
      "outputs": [
        {
          "output_type": "stream",
          "name": "stdout",
          "text": [
            "+------+-----+\n",
            "|Season|Value|\n",
            "+------+-----+\n",
            "|  null| null|\n",
            "|  2010|   71|\n",
            "|  2010|   77|\n",
            "+------+-----+\n",
            "only showing top 3 rows\n",
            "\n"
          ]
        }
      ],
      "source": [
        "df.write.mode('overwrite').partitionBy('Season').parquet('partioned_parquet/')\n",
        "df.show(3)"
      ]
    },
    {
      "cell_type": "markdown",
      "metadata": {
        "id": "JszpQqC4fUNN"
      },
      "source": [
        "## 8. Read in a partitioned parquet file\n",
        "\n",
        "Now try reading in the partitioned parquet file you just created above. "
      ]
    },
    {
      "cell_type": "code",
      "execution_count": 35,
      "metadata": {
        "colab": {
          "base_uri": "https://localhost:8080/"
        },
        "id": "85RSYTMHfUNN",
        "outputId": "4ab27b2e-8074-4b33-cb07-7f9bc1ccf0ca"
      },
      "outputs": [
        {
          "output_type": "stream",
          "name": "stdout",
          "text": [
            "+-----+------+\n",
            "|Value|Season|\n",
            "+-----+------+\n",
            "|   71|  2010|\n",
            "|   77|  2010|\n",
            "|   83|  2010|\n",
            "+-----+------+\n",
            "only showing top 3 rows\n",
            "\n"
          ]
        }
      ],
      "source": [
        "path = '/content/partioned_parquet'\n",
        "parquet = spark.read.parquet(path)\n",
        "parquet.show(3)"
      ]
    },
    {
      "cell_type": "markdown",
      "metadata": {
        "id": "T9hquVWsfUNO"
      },
      "source": [
        "## 9. Reading in a set of paritioned parquet files\n",
        "\n",
        "Now try only reading Seasons 2010, 2011 and 2012."
      ]
    },
    {
      "cell_type": "code",
      "execution_count": 37,
      "metadata": {
        "colab": {
          "base_uri": "https://localhost:8080/"
        },
        "id": "Mr8PctjIfUNO",
        "outputId": "8df38e6e-7f4a-4d56-f60c-8cc0966b78a5"
      },
      "outputs": [
        {
          "output_type": "stream",
          "name": "stdout",
          "text": [
            "+-----+\n",
            "|Value|\n",
            "+-----+\n",
            "|   71|\n",
            "|   77|\n",
            "|   83|\n",
            "+-----+\n",
            "only showing top 3 rows\n",
            "\n"
          ]
        }
      ],
      "source": [
        "path = '/content/partioned_parquet/'\n",
        "partitioned = spark.read.parquet(path+'Season=2010/', path+'Season=2011/', path+'Season=2012/')\n",
        "partitioned.show(3)"
      ]
    },
    {
      "cell_type": "markdown",
      "metadata": {
        "id": "Zpra-e8ifUNO"
      },
      "source": [
        "## 10. Create your own dataframe\n",
        "\n",
        "Try creating your own dataframe below using PySparks *.createDataFrame* function. See if you can make one that contains 4 variables and at least 3 rows. \n",
        "\n",
        "Let's see how creative you can get on the content of the dataframe :)"
      ]
    },
    {
      "cell_type": "code",
      "execution_count": 38,
      "metadata": {
        "colab": {
          "base_uri": "https://localhost:8080/"
        },
        "id": "G3TlnOvcfUNP",
        "outputId": "b4eaeb33-61a9-4e6e-b955-aff8cf82515b"
      },
      "outputs": [
        {
          "output_type": "stream",
          "name": "stdout",
          "text": [
            "+-------------+---+\n",
            "|         Name|Age|\n",
            "+-------------+---+\n",
            "|  Chloe Price| 20|\n",
            "|Max Caulfield| 19|\n",
            "|Rachel  Amber| 20|\n",
            "+-------------+---+\n",
            "\n"
          ]
        }
      ],
      "source": [
        "values = [('Chloe Price', 20), ('Max Caulfield', 19), ('Rachel  Amber', 20)]\n",
        "df = spark.createDataFrame(values, ['Name', 'Age'])\n",
        "df.show(3)"
      ]
    },
    {
      "cell_type": "markdown",
      "metadata": {
        "id": "Vs5WuU0efUNP"
      },
      "source": [
        "## We're done! Great job!"
      ]
    }
  ],
  "metadata": {
    "kernelspec": {
      "display_name": "Python 3",
      "language": "python",
      "name": "python3"
    },
    "language_info": {
      "codemirror_mode": {
        "name": "ipython",
        "version": 3
      },
      "file_extension": ".py",
      "mimetype": "text/x-python",
      "name": "python",
      "nbconvert_exporter": "python",
      "pygments_lexer": "ipython3",
      "version": "3.7.4"
    },
    "colab": {
      "provenance": [],
      "include_colab_link": true
    }
  },
  "nbformat": 4,
  "nbformat_minor": 0
}