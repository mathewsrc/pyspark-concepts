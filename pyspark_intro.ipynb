{
  "nbformat": 4,
  "nbformat_minor": 0,
  "metadata": {
    "colab": {
      "provenance": [],
      "authorship_tag": "ABX9TyPjKH4J70O+ZKKLFsxbmyh+",
      "include_colab_link": true
    },
    "kernelspec": {
      "name": "python3",
      "display_name": "Python 3"
    },
    "language_info": {
      "name": "python"
    }
  },
  "cells": [
    {
      "cell_type": "markdown",
      "metadata": {
        "id": "view-in-github",
        "colab_type": "text"
      },
      "source": [
        "<a href=\"https://colab.research.google.com/github/punkmic/pyspark-concepts/blob/master/pyspark_intro.ipynb\" target=\"_parent\"><img src=\"https://colab.research.google.com/assets/colab-badge.svg\" alt=\"Open In Colab\"/></a>"
      ]
    },
    {
      "cell_type": "markdown",
      "source": [
        "### **Connect to private Github repository using SSH**"
      ],
      "metadata": {
        "id": "PvdAKQEJ0TBn"
      }
    },
    {
      "cell_type": "code",
      "execution_count": 5,
      "metadata": {
        "colab": {
          "base_uri": "https://localhost:8080/"
        },
        "id": "jJXK33BHtGf7",
        "outputId": "bc5ef5b6-6152-4fdf-bf23-57f57b2229b6"
      },
      "outputs": [
        {
          "output_type": "stream",
          "name": "stdout",
          "text": [
            "Generating public/private ed25519 key pair.\n",
            "Enter file in which to save the key (/root/.ssh/id_ed25519): \n",
            "Created directory '/root/.ssh'.\n",
            "Enter passphrase (empty for no passphrase): \n",
            "Enter same passphrase again: \n",
            "Your identification has been saved in /root/.ssh/id_ed25519.\n",
            "Your public key has been saved in /root/.ssh/id_ed25519.pub.\n",
            "The key fingerprint is:\n",
            "SHA256:AhpyrO/7SuNpdchHd2wEsHVgS3gib9PNRXL4kkLIT0U root@bf2bb6f56919\n",
            "The key's randomart image is:\n",
            "+--[ED25519 256]--+\n",
            "|     ..+*=Eoo    |\n",
            "| .  . ==+ooo.    |\n",
            "|. + .o.B.= +     |\n",
            "| + o .= = O .    |\n",
            "|. .. +.oS+ .     |\n",
            "| .  + o.         |\n",
            "|  +. o           |\n",
            "| +.o             |\n",
            "| .*+.            |\n",
            "+----[SHA256]-----+\n",
            "# github.com:22 SSH-2.0-babeld-408889af\n"
          ]
        }
      ],
      "source": [
        "! ssh-keygen -t ed25519 \n",
        "# Add github.com to our known hosts\n",
        "! ssh-keyscan -t ed25519 github.com >> ~/.ssh/known_hosts\n",
        "# Restrict the key permissions, or else SSH will complain.\n",
        "! chmod go-rwx /root/.ssh/id_ed25519"
      ]
    },
    {
      "cell_type": "code",
      "source": [
        "!cat /root/.ssh/id_ed25519.pub"
      ],
      "metadata": {
        "colab": {
          "base_uri": "https://localhost:8080/"
        },
        "id": "MU0GsFzcwHnm",
        "outputId": "c1aea01d-c826-40b8-cda2-fb6f4914c5ab"
      },
      "execution_count": 6,
      "outputs": [
        {
          "output_type": "stream",
          "name": "stdout",
          "text": [
            "ssh-ed25519 AAAAC3NzaC1lZDI1NTE5AAAAIJukP/0AWx8LXkNQnB+iQVCsQ6EuQjTA8Yh02ID1oc/5 root@bf2bb6f56919\n"
          ]
        }
      ]
    },
    {
      "cell_type": "code",
      "source": [
        "!git config --global user.email \"mattheus_ribeiro@outlook.com\"\n",
        "!git config --global user.name \"punkmic\""
      ],
      "metadata": {
        "id": "52cc2l5xyXvT"
      },
      "execution_count": 9,
      "outputs": []
    },
    {
      "cell_type": "code",
      "source": [
        "!ssh -T git@github.com"
      ],
      "metadata": {
        "colab": {
          "base_uri": "https://localhost:8080/"
        },
        "id": "cLMxk0IpyQw7",
        "outputId": "4a441c13-6056-493e-f7bf-d6d84dc4da21"
      },
      "execution_count": 10,
      "outputs": [
        {
          "output_type": "stream",
          "name": "stdout",
          "text": [
            "Warning: Permanently added the ED25519 host key for IP address '140.82.113.3' to the list of known hosts.\r\n",
            "Hi punkmic! You've successfully authenticated, but GitHub does not provide shell access.\n"
          ]
        }
      ]
    },
    {
      "cell_type": "code",
      "source": [
        "!git clone git@github.com:punkmic/pyspark-concepts.git"
      ],
      "metadata": {
        "colab": {
          "base_uri": "https://localhost:8080/"
        },
        "id": "h5EWSAITz98k",
        "outputId": "16a48de2-b248-49a2-a992-20e9554f3271"
      },
      "execution_count": 11,
      "outputs": [
        {
          "output_type": "stream",
          "name": "stdout",
          "text": [
            "Cloning into 'pyspark-concepts'...\n",
            "Warning: Permanently added the ED25519 host key for IP address '140.82.114.4' to the list of known hosts.\n",
            "remote: Enumerating objects: 7, done.\u001b[K\n",
            "remote: Counting objects: 100% (7/7), done.\u001b[K\n",
            "remote: Compressing objects: 100% (5/5), done.\u001b[K\n",
            "remote: Total 7 (delta 1), reused 3 (delta 0), pack-reused 0\u001b[K\n",
            "Receiving objects: 100% (7/7), done.\n",
            "Resolving deltas: 100% (1/1), done.\n"
          ]
        }
      ]
    },
    {
      "cell_type": "code",
      "source": [
        "%cd /content/pyspark-concepts/"
      ],
      "metadata": {
        "colab": {
          "base_uri": "https://localhost:8080/"
        },
        "id": "iAEnkIpD0qnM",
        "outputId": "07e0b5c1-fd55-4408-df86-ccb64780314b"
      },
      "execution_count": 12,
      "outputs": [
        {
          "output_type": "stream",
          "name": "stdout",
          "text": [
            "/content/pyspark-concepts\n"
          ]
        }
      ]
    },
    {
      "cell_type": "markdown",
      "source": [
        "### **Install dependencies**"
      ],
      "metadata": {
        "id": "93_-vJ_jcbKN"
      }
    },
    {
      "cell_type": "code",
      "source": [
        "!touch requirements.txt"
      ],
      "metadata": {
        "id": "t9SvkWde00Sm"
      },
      "execution_count": 17,
      "outputs": []
    },
    {
      "cell_type": "code",
      "source": [
        "!echo \"findspark\" >> requirements.txt\n",
        "!echo \"pyspark\" >> requirements.txt\n",
        "!echo \"pyspark[sql]\" >> requirements.txt\n",
        "!echo \"pyspark[pandas_on_spark]\" >> requirements.txt"
      ],
      "metadata": {
        "id": "DBwLHBzWpYa7"
      },
      "execution_count": 21,
      "outputs": []
    },
    {
      "cell_type": "code",
      "source": [
        "!pip install -r requirements.txt"
      ],
      "metadata": {
        "colab": {
          "base_uri": "https://localhost:8080/"
        },
        "id": "eqfvwtCjpqCb",
        "outputId": "6961c8bb-84a6-4faf-acf0-84be5304751a"
      },
      "execution_count": 41,
      "outputs": [
        {
          "output_type": "stream",
          "name": "stdout",
          "text": [
            "Looking in indexes: https://pypi.org/simple, https://us-python.pkg.dev/colab-wheels/public/simple/\n",
            "Requirement already satisfied: pyspark in /usr/local/lib/python3.8/dist-packages (from -r requirements.txt (line 1)) (3.3.1)\n",
            "Collecting findspark\n",
            "  Downloading findspark-2.0.1-py2.py3-none-any.whl (4.4 kB)\n",
            "Requirement already satisfied: py4j==0.10.9.5 in /usr/local/lib/python3.8/dist-packages (from pyspark->-r requirements.txt (line 1)) (0.10.9.5)\n",
            "Requirement already satisfied: pyarrow>=1.0.0 in /usr/local/lib/python3.8/dist-packages (from pyspark->-r requirements.txt (line 1)) (9.0.0)\n",
            "Requirement already satisfied: pandas>=1.0.5 in /usr/local/lib/python3.8/dist-packages (from pyspark->-r requirements.txt (line 1)) (1.3.5)\n",
            "Requirement already satisfied: numpy>=1.15 in /usr/local/lib/python3.8/dist-packages (from pyspark->-r requirements.txt (line 1)) (1.21.6)\n",
            "Requirement already satisfied: python-dateutil>=2.7.3 in /usr/local/lib/python3.8/dist-packages (from pandas>=1.0.5->pyspark->-r requirements.txt (line 1)) (2.8.2)\n",
            "Requirement already satisfied: pytz>=2017.3 in /usr/local/lib/python3.8/dist-packages (from pandas>=1.0.5->pyspark->-r requirements.txt (line 1)) (2022.6)\n",
            "Requirement already satisfied: six>=1.5 in /usr/local/lib/python3.8/dist-packages (from python-dateutil>=2.7.3->pandas>=1.0.5->pyspark->-r requirements.txt (line 1)) (1.15.0)\n",
            "Installing collected packages: findspark\n",
            "Successfully installed findspark-2.0.1\n"
          ]
        }
      ]
    },
    {
      "cell_type": "markdown",
      "source": [
        "### **Import dependencies**"
      ],
      "metadata": {
        "id": "PUYpl7q7quIZ"
      }
    },
    {
      "cell_type": "code",
      "source": [
        "import findspark\n",
        "findspark.init()\n",
        "from pyspark.sql import SparkSession\n",
        "from datetime import datetime, date\n",
        "import pandas as pd\n",
        "from pyspark.sql import Row\n",
        "import os\n",
        "# for COLAB\n",
        "from pyspark import SparkContext, SparkConf"
      ],
      "metadata": {
        "id": "kQUKZUAZptTe"
      },
      "execution_count": 70,
      "outputs": []
    },
    {
      "cell_type": "markdown",
      "source": [
        "**Spark: cluster computing framework that can handle Big Data in a lighting speed**\n",
        "\n",
        "\n",
        "\n",
        "* PySpark does not use indexing\n",
        "* All objects in PySpark are immutable\n",
        "* Runs on a cluster: a set of connected computers\n",
        "\n",
        "\n",
        "\n",
        "\n"
      ],
      "metadata": {
        "id": "Rtr4Gn72roBP"
      }
    },
    {
      "cell_type": "markdown",
      "source": [
        "Benefits of spark:\n",
        "\n",
        "\n",
        "\n",
        "*   Faster processing speed\n",
        "*   Large storage capacity\n",
        "*   Superior reliability\n",
        "\n"
      ],
      "metadata": {
        "id": "FDMSsd_2suos"
      }
    },
    {
      "cell_type": "markdown",
      "source": [
        "What is Spark\n",
        "\n",
        "\n",
        "\n",
        "*   It's written in Scala\n",
        "*   Spark utilizes Haddop for storage and process handling\n",
        "*   Lazy computation\n",
        "\n"
      ],
      "metadata": {
        "id": "8KHnDvPZs8Mu"
      }
    },
    {
      "cell_type": "code",
      "source": [
        "# get or create a new session\n",
        "conf = SparkConf().set('spark.ui.port', '4050') # for colab\n",
        "sc = SparkContext(conf=conf) # for colab\n",
        "spark = SparkSession.builder.master('local[*]').appName(\"PySpark\").getOrCreate()\n",
        "spark"
      ],
      "metadata": {
        "colab": {
          "base_uri": "https://localhost:8080/",
          "height": 222
        },
        "id": "wox7ztR32gM1",
        "outputId": "a34d26f6-5760-449e-b8db-1e09621b142f"
      },
      "execution_count": 52,
      "outputs": [
        {
          "output_type": "execute_result",
          "data": {
            "text/plain": [
              "<pyspark.sql.session.SparkSession at 0x7f93363be5b0>"
            ],
            "text/html": [
              "\n",
              "            <div>\n",
              "                <p><b>SparkSession - in-memory</b></p>\n",
              "                \n",
              "        <div>\n",
              "            <p><b>SparkContext</b></p>\n",
              "\n",
              "            <p><a href=\"http://bf2bb6f56919:4050\">Spark UI</a></p>\n",
              "\n",
              "            <dl>\n",
              "              <dt>Version</dt>\n",
              "                <dd><code>v3.3.1</code></dd>\n",
              "              <dt>Master</dt>\n",
              "                <dd><code>local[*]</code></dd>\n",
              "              <dt>AppName</dt>\n",
              "                <dd><code>PySpark</code></dd>\n",
              "            </dl>\n",
              "        </div>\n",
              "        \n",
              "            </div>\n",
              "        "
            ]
          },
          "metadata": {},
          "execution_count": 52
        }
      ]
    },
    {
      "cell_type": "code",
      "source": [
        "# print the number of cores\n",
        "cores = spark._jsc.sc().getExecutorMemoryStatus().keySet().size()\n",
        "cores"
      ],
      "metadata": {
        "colab": {
          "base_uri": "https://localhost:8080/"
        },
        "id": "oha69xFsMuqH",
        "outputId": "d6a08f4f-7521-4cb5-a11a-08d6d0daec78"
      },
      "execution_count": 67,
      "outputs": [
        {
          "output_type": "execute_result",
          "data": {
            "text/plain": [
              "1"
            ]
          },
          "metadata": {},
          "execution_count": 67
        }
      ]
    },
    {
      "cell_type": "code",
      "source": [
        "data = [['max', 10], ['chloe', 16], ['rachel', 15]]\n",
        "df = spark.createDataFrame(data, ['Name', 'Age'])"
      ],
      "metadata": {
        "id": "khE9YFAkr0W_"
      },
      "execution_count": 26,
      "outputs": []
    },
    {
      "cell_type": "code",
      "source": [
        "df.show()"
      ],
      "metadata": {
        "colab": {
          "base_uri": "https://localhost:8080/"
        },
        "id": "morx9rWg43vU",
        "outputId": "0847616c-436b-49f4-9e37-dd6bf780cb93"
      },
      "execution_count": 27,
      "outputs": [
        {
          "output_type": "stream",
          "name": "stdout",
          "text": [
            "+------+---+\n",
            "|  Name|Age|\n",
            "+------+---+\n",
            "|   max| 10|\n",
            "| chloe| 16|\n",
            "|rachel| 15|\n",
            "+------+---+\n",
            "\n"
          ]
        }
      ]
    },
    {
      "cell_type": "code",
      "source": [
        "df.toPandas()"
      ],
      "metadata": {
        "colab": {
          "base_uri": "https://localhost:8080/",
          "height": 143
        },
        "id": "M2I4_Nwy5FxV",
        "outputId": "3e123203-725f-4853-94f3-e7fed883b045"
      },
      "execution_count": 28,
      "outputs": [
        {
          "output_type": "execute_result",
          "data": {
            "text/plain": [
              "     Name  Age\n",
              "0     max   10\n",
              "1   chloe   16\n",
              "2  rachel   15"
            ],
            "text/html": [
              "\n",
              "  <div id=\"df-8051a8d3-90db-4033-a1e7-a4c988fe3bdc\">\n",
              "    <div class=\"colab-df-container\">\n",
              "      <div>\n",
              "<style scoped>\n",
              "    .dataframe tbody tr th:only-of-type {\n",
              "        vertical-align: middle;\n",
              "    }\n",
              "\n",
              "    .dataframe tbody tr th {\n",
              "        vertical-align: top;\n",
              "    }\n",
              "\n",
              "    .dataframe thead th {\n",
              "        text-align: right;\n",
              "    }\n",
              "</style>\n",
              "<table border=\"1\" class=\"dataframe\">\n",
              "  <thead>\n",
              "    <tr style=\"text-align: right;\">\n",
              "      <th></th>\n",
              "      <th>Name</th>\n",
              "      <th>Age</th>\n",
              "    </tr>\n",
              "  </thead>\n",
              "  <tbody>\n",
              "    <tr>\n",
              "      <th>0</th>\n",
              "      <td>max</td>\n",
              "      <td>10</td>\n",
              "    </tr>\n",
              "    <tr>\n",
              "      <th>1</th>\n",
              "      <td>chloe</td>\n",
              "      <td>16</td>\n",
              "    </tr>\n",
              "    <tr>\n",
              "      <th>2</th>\n",
              "      <td>rachel</td>\n",
              "      <td>15</td>\n",
              "    </tr>\n",
              "  </tbody>\n",
              "</table>\n",
              "</div>\n",
              "      <button class=\"colab-df-convert\" onclick=\"convertToInteractive('df-8051a8d3-90db-4033-a1e7-a4c988fe3bdc')\"\n",
              "              title=\"Convert this dataframe to an interactive table.\"\n",
              "              style=\"display:none;\">\n",
              "        \n",
              "  <svg xmlns=\"http://www.w3.org/2000/svg\" height=\"24px\"viewBox=\"0 0 24 24\"\n",
              "       width=\"24px\">\n",
              "    <path d=\"M0 0h24v24H0V0z\" fill=\"none\"/>\n",
              "    <path d=\"M18.56 5.44l.94 2.06.94-2.06 2.06-.94-2.06-.94-.94-2.06-.94 2.06-2.06.94zm-11 1L8.5 8.5l.94-2.06 2.06-.94-2.06-.94L8.5 2.5l-.94 2.06-2.06.94zm10 10l.94 2.06.94-2.06 2.06-.94-2.06-.94-.94-2.06-.94 2.06-2.06.94z\"/><path d=\"M17.41 7.96l-1.37-1.37c-.4-.4-.92-.59-1.43-.59-.52 0-1.04.2-1.43.59L10.3 9.45l-7.72 7.72c-.78.78-.78 2.05 0 2.83L4 21.41c.39.39.9.59 1.41.59.51 0 1.02-.2 1.41-.59l7.78-7.78 2.81-2.81c.8-.78.8-2.07 0-2.86zM5.41 20L4 18.59l7.72-7.72 1.47 1.35L5.41 20z\"/>\n",
              "  </svg>\n",
              "      </button>\n",
              "      \n",
              "  <style>\n",
              "    .colab-df-container {\n",
              "      display:flex;\n",
              "      flex-wrap:wrap;\n",
              "      gap: 12px;\n",
              "    }\n",
              "\n",
              "    .colab-df-convert {\n",
              "      background-color: #E8F0FE;\n",
              "      border: none;\n",
              "      border-radius: 50%;\n",
              "      cursor: pointer;\n",
              "      display: none;\n",
              "      fill: #1967D2;\n",
              "      height: 32px;\n",
              "      padding: 0 0 0 0;\n",
              "      width: 32px;\n",
              "    }\n",
              "\n",
              "    .colab-df-convert:hover {\n",
              "      background-color: #E2EBFA;\n",
              "      box-shadow: 0px 1px 2px rgba(60, 64, 67, 0.3), 0px 1px 3px 1px rgba(60, 64, 67, 0.15);\n",
              "      fill: #174EA6;\n",
              "    }\n",
              "\n",
              "    [theme=dark] .colab-df-convert {\n",
              "      background-color: #3B4455;\n",
              "      fill: #D2E3FC;\n",
              "    }\n",
              "\n",
              "    [theme=dark] .colab-df-convert:hover {\n",
              "      background-color: #434B5C;\n",
              "      box-shadow: 0px 1px 3px 1px rgba(0, 0, 0, 0.15);\n",
              "      filter: drop-shadow(0px 1px 2px rgba(0, 0, 0, 0.3));\n",
              "      fill: #FFFFFF;\n",
              "    }\n",
              "  </style>\n",
              "\n",
              "      <script>\n",
              "        const buttonEl =\n",
              "          document.querySelector('#df-8051a8d3-90db-4033-a1e7-a4c988fe3bdc button.colab-df-convert');\n",
              "        buttonEl.style.display =\n",
              "          google.colab.kernel.accessAllowed ? 'block' : 'none';\n",
              "\n",
              "        async function convertToInteractive(key) {\n",
              "          const element = document.querySelector('#df-8051a8d3-90db-4033-a1e7-a4c988fe3bdc');\n",
              "          const dataTable =\n",
              "            await google.colab.kernel.invokeFunction('convertToInteractive',\n",
              "                                                     [key], {});\n",
              "          if (!dataTable) return;\n",
              "\n",
              "          const docLinkHtml = 'Like what you see? Visit the ' +\n",
              "            '<a target=\"_blank\" href=https://colab.research.google.com/notebooks/data_table.ipynb>data table notebook</a>'\n",
              "            + ' to learn more about interactive tables.';\n",
              "          element.innerHTML = '';\n",
              "          dataTable['output_type'] = 'display_data';\n",
              "          await google.colab.output.renderOutput(dataTable, element);\n",
              "          const docLink = document.createElement('div');\n",
              "          docLink.innerHTML = docLinkHtml;\n",
              "          element.appendChild(docLink);\n",
              "        }\n",
              "      </script>\n",
              "    </div>\n",
              "  </div>\n",
              "  "
            ]
          },
          "metadata": {},
          "execution_count": 28
        }
      ]
    },
    {
      "cell_type": "code",
      "source": [
        "df.columns"
      ],
      "metadata": {
        "colab": {
          "base_uri": "https://localhost:8080/"
        },
        "id": "SXyb0EzJ5LpI",
        "outputId": "c75aa4e3-5601-41fe-edb7-28b5d27d349d"
      },
      "execution_count": 30,
      "outputs": [
        {
          "output_type": "execute_result",
          "data": {
            "text/plain": [
              "['Name', 'Age']"
            ]
          },
          "metadata": {},
          "execution_count": 30
        }
      ]
    },
    {
      "cell_type": "code",
      "source": [
        "df.count()"
      ],
      "metadata": {
        "colab": {
          "base_uri": "https://localhost:8080/"
        },
        "id": "jUuTzjeB5X3x",
        "outputId": "46fc9dc5-f1da-4aac-9744-c6c6255dcd38"
      },
      "execution_count": 31,
      "outputs": [
        {
          "output_type": "execute_result",
          "data": {
            "text/plain": [
              "3"
            ]
          },
          "metadata": {},
          "execution_count": 31
        }
      ]
    },
    {
      "cell_type": "code",
      "source": [
        "path = 'students.csv'\n",
        "df = spark.read.csv(path, header=True)\n",
        "df.show(5)"
      ],
      "metadata": {
        "colab": {
          "base_uri": "https://localhost:8080/"
        },
        "id": "l9Xp6COL6Ntv",
        "outputId": "b2f9bdce-6140-4810-d053-84938bd15c82"
      },
      "execution_count": 98,
      "outputs": [
        {
          "output_type": "stream",
          "name": "stdout",
          "text": [
            "+------+--------------+---------------------------+------------+-----------------------+----------+-------------+-------------+\n",
            "|gender|race/ethnicity|parental level of education|       lunch|test preparation course|math score|reading score|writing score|\n",
            "+------+--------------+---------------------------+------------+-----------------------+----------+-------------+-------------+\n",
            "|female|       group B|          bachelor's degree|    standard|                   none|        72|           72|           74|\n",
            "|female|       group C|               some college|    standard|              completed|        69|           90|           88|\n",
            "|female|       group B|            master's degree|    standard|                   none|        90|           95|           93|\n",
            "|  male|       group A|         associate's degree|free/reduced|                   none|        47|           57|           44|\n",
            "|  male|       group C|               some college|    standard|                   none|        76|           78|           75|\n",
            "+------+--------------+---------------------------+------------+-----------------------+----------+-------------+-------------+\n",
            "only showing top 5 rows\n",
            "\n"
          ]
        }
      ]
    },
    {
      "cell_type": "markdown",
      "source": [
        "### **Aggregate Data**"
      ],
      "metadata": {
        "id": "opSixCzm6wCV"
      }
    },
    {
      "cell_type": "code",
      "source": [
        "df.groupBy(\"gender\").agg({'math score':'mean'}).show()"
      ],
      "metadata": {
        "colab": {
          "base_uri": "https://localhost:8080/"
        },
        "id": "sxPhbW7w6yJW",
        "outputId": "050a7673-46bc-4be3-947f-423681298198"
      },
      "execution_count": 99,
      "outputs": [
        {
          "output_type": "stream",
          "name": "stdout",
          "text": [
            "+------+------------------+\n",
            "|gender|   avg(math score)|\n",
            "+------+------------------+\n",
            "|female|63.633204633204635|\n",
            "|  male| 68.72821576763485|\n",
            "+------+------------------+\n",
            "\n"
          ]
        }
      ]
    },
    {
      "cell_type": "code",
      "source": [
        "from pyspark.sql import functions as F\n",
        "df.groupBy('gender').agg(F.min('math score'), F.max('math score'), F.avg('math score')).show()"
      ],
      "metadata": {
        "colab": {
          "base_uri": "https://localhost:8080/"
        },
        "id": "hDxuHvY66ehe",
        "outputId": "93b4fc4c-40cc-4e7d-faae-f54fd1edd75f"
      },
      "execution_count": 100,
      "outputs": [
        {
          "output_type": "stream",
          "name": "stdout",
          "text": [
            "+------+---------------+---------------+------------------+\n",
            "|gender|min(math score)|max(math score)|   avg(math score)|\n",
            "+------+---------------+---------------+------------------+\n",
            "|female|              0|             99|63.633204633204635|\n",
            "|  male|            100|             99| 68.72821576763485|\n",
            "+------+---------------+---------------+------------------+\n",
            "\n"
          ]
        }
      ]
    },
    {
      "cell_type": "code",
      "source": [
        "DATASETS_DIR = './datasets/'\n",
        "if not os.path.exists(DATASETS_DIR):\n",
        "  os.makedirs(DATASETS_DIR)\n",
        "path = DATASETS_DIR + 'users*'\n",
        "print(path)\n",
        "parquet = spark.read.parquet(path)"
      ],
      "metadata": {
        "colab": {
          "base_uri": "https://localhost:8080/"
        },
        "id": "PyLxSqyJ7nbt",
        "outputId": "a6f8a2fa-9286-44a8-9420-8fe0a5eec5b5"
      },
      "execution_count": 91,
      "outputs": [
        {
          "output_type": "stream",
          "name": "stdout",
          "text": [
            "./datasets/users*\n"
          ]
        }
      ]
    },
    {
      "cell_type": "code",
      "source": [
        "parquet.limit(3).toPandas()"
      ],
      "metadata": {
        "colab": {
          "base_uri": "https://localhost:8080/",
          "height": 259
        },
        "id": "aSz7F3t9RgWo",
        "outputId": "4057e1cd-1e74-4dbe-8988-7c57dc7c3a04"
      },
      "execution_count": 92,
      "outputs": [
        {
          "output_type": "execute_result",
          "data": {
            "text/plain": [
              "    registration_dttm  id first_name last_name                    email  \\\n",
              "0 2016-02-03 07:55:29   1     Amanda    Jordan         ajordan0@com.com   \n",
              "1 2016-02-03 17:04:03   2     Albert   Freeman          afreeman1@is.gd   \n",
              "2 2016-02-03 01:09:31   3     Evelyn    Morgan  emorgan2@altervista.org   \n",
              "\n",
              "   gender      ip_address                cc    country  birthdate     salary  \\\n",
              "0  Female     1.197.201.2  6759521864920116  Indonesia   3/8/1971   49756.53   \n",
              "1    Male  218.111.175.34                       Canada  1/16/1968  150280.17   \n",
              "2  Female    7.161.136.94  6767119071901597     Russia   2/1/1960  144972.51   \n",
              "\n",
              "                 title comments  \n",
              "0     Internal Auditor    1E+02  \n",
              "1        Accountant IV           \n",
              "2  Structural Engineer           "
            ],
            "text/html": [
              "\n",
              "  <div id=\"df-4b63ec21-c289-403e-b18e-6a29d2508497\">\n",
              "    <div class=\"colab-df-container\">\n",
              "      <div>\n",
              "<style scoped>\n",
              "    .dataframe tbody tr th:only-of-type {\n",
              "        vertical-align: middle;\n",
              "    }\n",
              "\n",
              "    .dataframe tbody tr th {\n",
              "        vertical-align: top;\n",
              "    }\n",
              "\n",
              "    .dataframe thead th {\n",
              "        text-align: right;\n",
              "    }\n",
              "</style>\n",
              "<table border=\"1\" class=\"dataframe\">\n",
              "  <thead>\n",
              "    <tr style=\"text-align: right;\">\n",
              "      <th></th>\n",
              "      <th>registration_dttm</th>\n",
              "      <th>id</th>\n",
              "      <th>first_name</th>\n",
              "      <th>last_name</th>\n",
              "      <th>email</th>\n",
              "      <th>gender</th>\n",
              "      <th>ip_address</th>\n",
              "      <th>cc</th>\n",
              "      <th>country</th>\n",
              "      <th>birthdate</th>\n",
              "      <th>salary</th>\n",
              "      <th>title</th>\n",
              "      <th>comments</th>\n",
              "    </tr>\n",
              "  </thead>\n",
              "  <tbody>\n",
              "    <tr>\n",
              "      <th>0</th>\n",
              "      <td>2016-02-03 07:55:29</td>\n",
              "      <td>1</td>\n",
              "      <td>Amanda</td>\n",
              "      <td>Jordan</td>\n",
              "      <td>ajordan0@com.com</td>\n",
              "      <td>Female</td>\n",
              "      <td>1.197.201.2</td>\n",
              "      <td>6759521864920116</td>\n",
              "      <td>Indonesia</td>\n",
              "      <td>3/8/1971</td>\n",
              "      <td>49756.53</td>\n",
              "      <td>Internal Auditor</td>\n",
              "      <td>1E+02</td>\n",
              "    </tr>\n",
              "    <tr>\n",
              "      <th>1</th>\n",
              "      <td>2016-02-03 17:04:03</td>\n",
              "      <td>2</td>\n",
              "      <td>Albert</td>\n",
              "      <td>Freeman</td>\n",
              "      <td>afreeman1@is.gd</td>\n",
              "      <td>Male</td>\n",
              "      <td>218.111.175.34</td>\n",
              "      <td></td>\n",
              "      <td>Canada</td>\n",
              "      <td>1/16/1968</td>\n",
              "      <td>150280.17</td>\n",
              "      <td>Accountant IV</td>\n",
              "      <td></td>\n",
              "    </tr>\n",
              "    <tr>\n",
              "      <th>2</th>\n",
              "      <td>2016-02-03 01:09:31</td>\n",
              "      <td>3</td>\n",
              "      <td>Evelyn</td>\n",
              "      <td>Morgan</td>\n",
              "      <td>emorgan2@altervista.org</td>\n",
              "      <td>Female</td>\n",
              "      <td>7.161.136.94</td>\n",
              "      <td>6767119071901597</td>\n",
              "      <td>Russia</td>\n",
              "      <td>2/1/1960</td>\n",
              "      <td>144972.51</td>\n",
              "      <td>Structural Engineer</td>\n",
              "      <td></td>\n",
              "    </tr>\n",
              "  </tbody>\n",
              "</table>\n",
              "</div>\n",
              "      <button class=\"colab-df-convert\" onclick=\"convertToInteractive('df-4b63ec21-c289-403e-b18e-6a29d2508497')\"\n",
              "              title=\"Convert this dataframe to an interactive table.\"\n",
              "              style=\"display:none;\">\n",
              "        \n",
              "  <svg xmlns=\"http://www.w3.org/2000/svg\" height=\"24px\"viewBox=\"0 0 24 24\"\n",
              "       width=\"24px\">\n",
              "    <path d=\"M0 0h24v24H0V0z\" fill=\"none\"/>\n",
              "    <path d=\"M18.56 5.44l.94 2.06.94-2.06 2.06-.94-2.06-.94-.94-2.06-.94 2.06-2.06.94zm-11 1L8.5 8.5l.94-2.06 2.06-.94-2.06-.94L8.5 2.5l-.94 2.06-2.06.94zm10 10l.94 2.06.94-2.06 2.06-.94-2.06-.94-.94-2.06-.94 2.06-2.06.94z\"/><path d=\"M17.41 7.96l-1.37-1.37c-.4-.4-.92-.59-1.43-.59-.52 0-1.04.2-1.43.59L10.3 9.45l-7.72 7.72c-.78.78-.78 2.05 0 2.83L4 21.41c.39.39.9.59 1.41.59.51 0 1.02-.2 1.41-.59l7.78-7.78 2.81-2.81c.8-.78.8-2.07 0-2.86zM5.41 20L4 18.59l7.72-7.72 1.47 1.35L5.41 20z\"/>\n",
              "  </svg>\n",
              "      </button>\n",
              "      \n",
              "  <style>\n",
              "    .colab-df-container {\n",
              "      display:flex;\n",
              "      flex-wrap:wrap;\n",
              "      gap: 12px;\n",
              "    }\n",
              "\n",
              "    .colab-df-convert {\n",
              "      background-color: #E8F0FE;\n",
              "      border: none;\n",
              "      border-radius: 50%;\n",
              "      cursor: pointer;\n",
              "      display: none;\n",
              "      fill: #1967D2;\n",
              "      height: 32px;\n",
              "      padding: 0 0 0 0;\n",
              "      width: 32px;\n",
              "    }\n",
              "\n",
              "    .colab-df-convert:hover {\n",
              "      background-color: #E2EBFA;\n",
              "      box-shadow: 0px 1px 2px rgba(60, 64, 67, 0.3), 0px 1px 3px 1px rgba(60, 64, 67, 0.15);\n",
              "      fill: #174EA6;\n",
              "    }\n",
              "\n",
              "    [theme=dark] .colab-df-convert {\n",
              "      background-color: #3B4455;\n",
              "      fill: #D2E3FC;\n",
              "    }\n",
              "\n",
              "    [theme=dark] .colab-df-convert:hover {\n",
              "      background-color: #434B5C;\n",
              "      box-shadow: 0px 1px 3px 1px rgba(0, 0, 0, 0.15);\n",
              "      filter: drop-shadow(0px 1px 2px rgba(0, 0, 0, 0.3));\n",
              "      fill: #FFFFFF;\n",
              "    }\n",
              "  </style>\n",
              "\n",
              "      <script>\n",
              "        const buttonEl =\n",
              "          document.querySelector('#df-4b63ec21-c289-403e-b18e-6a29d2508497 button.colab-df-convert');\n",
              "        buttonEl.style.display =\n",
              "          google.colab.kernel.accessAllowed ? 'block' : 'none';\n",
              "\n",
              "        async function convertToInteractive(key) {\n",
              "          const element = document.querySelector('#df-4b63ec21-c289-403e-b18e-6a29d2508497');\n",
              "          const dataTable =\n",
              "            await google.colab.kernel.invokeFunction('convertToInteractive',\n",
              "                                                     [key], {});\n",
              "          if (!dataTable) return;\n",
              "\n",
              "          const docLinkHtml = 'Like what you see? Visit the ' +\n",
              "            '<a target=\"_blank\" href=https://colab.research.google.com/notebooks/data_table.ipynb>data table notebook</a>'\n",
              "            + ' to learn more about interactive tables.';\n",
              "          element.innerHTML = '';\n",
              "          dataTable['output_type'] = 'display_data';\n",
              "          await google.colab.output.renderOutput(dataTable, element);\n",
              "          const docLink = document.createElement('div');\n",
              "          docLink.innerHTML = docLinkHtml;\n",
              "          element.appendChild(docLink);\n",
              "        }\n",
              "      </script>\n",
              "    </div>\n",
              "  </div>\n",
              "  "
            ]
          },
          "metadata": {},
          "execution_count": 92
        }
      ]
    },
    {
      "cell_type": "code",
      "source": [
        "users1_2 = spark.read.parquet(DATASETS_DIR+'users1.parquet', DATASETS_DIR+'users2.parquet')"
      ],
      "metadata": {
        "id": "yYJens8bR-up"
      },
      "execution_count": 93,
      "outputs": []
    },
    {
      "cell_type": "code",
      "source": [
        "users1_2.limit(3).toPandas()"
      ],
      "metadata": {
        "colab": {
          "base_uri": "https://localhost:8080/",
          "height": 259
        },
        "id": "sLqxArFySS8I",
        "outputId": "fb623297-8758-4924-e104-d5b8d6a68fe6"
      },
      "execution_count": 94,
      "outputs": [
        {
          "output_type": "execute_result",
          "data": {
            "text/plain": [
              "    registration_dttm  id first_name last_name                    email  \\\n",
              "0 2016-02-03 07:55:29   1     Amanda    Jordan         ajordan0@com.com   \n",
              "1 2016-02-03 17:04:03   2     Albert   Freeman          afreeman1@is.gd   \n",
              "2 2016-02-03 01:09:31   3     Evelyn    Morgan  emorgan2@altervista.org   \n",
              "\n",
              "   gender      ip_address                cc    country  birthdate     salary  \\\n",
              "0  Female     1.197.201.2  6759521864920116  Indonesia   3/8/1971   49756.53   \n",
              "1    Male  218.111.175.34                       Canada  1/16/1968  150280.17   \n",
              "2  Female    7.161.136.94  6767119071901597     Russia   2/1/1960  144972.51   \n",
              "\n",
              "                 title comments  \n",
              "0     Internal Auditor    1E+02  \n",
              "1        Accountant IV           \n",
              "2  Structural Engineer           "
            ],
            "text/html": [
              "\n",
              "  <div id=\"df-610aed64-f67b-48ba-981c-c9d5d6b44044\">\n",
              "    <div class=\"colab-df-container\">\n",
              "      <div>\n",
              "<style scoped>\n",
              "    .dataframe tbody tr th:only-of-type {\n",
              "        vertical-align: middle;\n",
              "    }\n",
              "\n",
              "    .dataframe tbody tr th {\n",
              "        vertical-align: top;\n",
              "    }\n",
              "\n",
              "    .dataframe thead th {\n",
              "        text-align: right;\n",
              "    }\n",
              "</style>\n",
              "<table border=\"1\" class=\"dataframe\">\n",
              "  <thead>\n",
              "    <tr style=\"text-align: right;\">\n",
              "      <th></th>\n",
              "      <th>registration_dttm</th>\n",
              "      <th>id</th>\n",
              "      <th>first_name</th>\n",
              "      <th>last_name</th>\n",
              "      <th>email</th>\n",
              "      <th>gender</th>\n",
              "      <th>ip_address</th>\n",
              "      <th>cc</th>\n",
              "      <th>country</th>\n",
              "      <th>birthdate</th>\n",
              "      <th>salary</th>\n",
              "      <th>title</th>\n",
              "      <th>comments</th>\n",
              "    </tr>\n",
              "  </thead>\n",
              "  <tbody>\n",
              "    <tr>\n",
              "      <th>0</th>\n",
              "      <td>2016-02-03 07:55:29</td>\n",
              "      <td>1</td>\n",
              "      <td>Amanda</td>\n",
              "      <td>Jordan</td>\n",
              "      <td>ajordan0@com.com</td>\n",
              "      <td>Female</td>\n",
              "      <td>1.197.201.2</td>\n",
              "      <td>6759521864920116</td>\n",
              "      <td>Indonesia</td>\n",
              "      <td>3/8/1971</td>\n",
              "      <td>49756.53</td>\n",
              "      <td>Internal Auditor</td>\n",
              "      <td>1E+02</td>\n",
              "    </tr>\n",
              "    <tr>\n",
              "      <th>1</th>\n",
              "      <td>2016-02-03 17:04:03</td>\n",
              "      <td>2</td>\n",
              "      <td>Albert</td>\n",
              "      <td>Freeman</td>\n",
              "      <td>afreeman1@is.gd</td>\n",
              "      <td>Male</td>\n",
              "      <td>218.111.175.34</td>\n",
              "      <td></td>\n",
              "      <td>Canada</td>\n",
              "      <td>1/16/1968</td>\n",
              "      <td>150280.17</td>\n",
              "      <td>Accountant IV</td>\n",
              "      <td></td>\n",
              "    </tr>\n",
              "    <tr>\n",
              "      <th>2</th>\n",
              "      <td>2016-02-03 01:09:31</td>\n",
              "      <td>3</td>\n",
              "      <td>Evelyn</td>\n",
              "      <td>Morgan</td>\n",
              "      <td>emorgan2@altervista.org</td>\n",
              "      <td>Female</td>\n",
              "      <td>7.161.136.94</td>\n",
              "      <td>6767119071901597</td>\n",
              "      <td>Russia</td>\n",
              "      <td>2/1/1960</td>\n",
              "      <td>144972.51</td>\n",
              "      <td>Structural Engineer</td>\n",
              "      <td></td>\n",
              "    </tr>\n",
              "  </tbody>\n",
              "</table>\n",
              "</div>\n",
              "      <button class=\"colab-df-convert\" onclick=\"convertToInteractive('df-610aed64-f67b-48ba-981c-c9d5d6b44044')\"\n",
              "              title=\"Convert this dataframe to an interactive table.\"\n",
              "              style=\"display:none;\">\n",
              "        \n",
              "  <svg xmlns=\"http://www.w3.org/2000/svg\" height=\"24px\"viewBox=\"0 0 24 24\"\n",
              "       width=\"24px\">\n",
              "    <path d=\"M0 0h24v24H0V0z\" fill=\"none\"/>\n",
              "    <path d=\"M18.56 5.44l.94 2.06.94-2.06 2.06-.94-2.06-.94-.94-2.06-.94 2.06-2.06.94zm-11 1L8.5 8.5l.94-2.06 2.06-.94-2.06-.94L8.5 2.5l-.94 2.06-2.06.94zm10 10l.94 2.06.94-2.06 2.06-.94-2.06-.94-.94-2.06-.94 2.06-2.06.94z\"/><path d=\"M17.41 7.96l-1.37-1.37c-.4-.4-.92-.59-1.43-.59-.52 0-1.04.2-1.43.59L10.3 9.45l-7.72 7.72c-.78.78-.78 2.05 0 2.83L4 21.41c.39.39.9.59 1.41.59.51 0 1.02-.2 1.41-.59l7.78-7.78 2.81-2.81c.8-.78.8-2.07 0-2.86zM5.41 20L4 18.59l7.72-7.72 1.47 1.35L5.41 20z\"/>\n",
              "  </svg>\n",
              "      </button>\n",
              "      \n",
              "  <style>\n",
              "    .colab-df-container {\n",
              "      display:flex;\n",
              "      flex-wrap:wrap;\n",
              "      gap: 12px;\n",
              "    }\n",
              "\n",
              "    .colab-df-convert {\n",
              "      background-color: #E8F0FE;\n",
              "      border: none;\n",
              "      border-radius: 50%;\n",
              "      cursor: pointer;\n",
              "      display: none;\n",
              "      fill: #1967D2;\n",
              "      height: 32px;\n",
              "      padding: 0 0 0 0;\n",
              "      width: 32px;\n",
              "    }\n",
              "\n",
              "    .colab-df-convert:hover {\n",
              "      background-color: #E2EBFA;\n",
              "      box-shadow: 0px 1px 2px rgba(60, 64, 67, 0.3), 0px 1px 3px 1px rgba(60, 64, 67, 0.15);\n",
              "      fill: #174EA6;\n",
              "    }\n",
              "\n",
              "    [theme=dark] .colab-df-convert {\n",
              "      background-color: #3B4455;\n",
              "      fill: #D2E3FC;\n",
              "    }\n",
              "\n",
              "    [theme=dark] .colab-df-convert:hover {\n",
              "      background-color: #434B5C;\n",
              "      box-shadow: 0px 1px 3px 1px rgba(0, 0, 0, 0.15);\n",
              "      filter: drop-shadow(0px 1px 2px rgba(0, 0, 0, 0.3));\n",
              "      fill: #FFFFFF;\n",
              "    }\n",
              "  </style>\n",
              "\n",
              "      <script>\n",
              "        const buttonEl =\n",
              "          document.querySelector('#df-610aed64-f67b-48ba-981c-c9d5d6b44044 button.colab-df-convert');\n",
              "        buttonEl.style.display =\n",
              "          google.colab.kernel.accessAllowed ? 'block' : 'none';\n",
              "\n",
              "        async function convertToInteractive(key) {\n",
              "          const element = document.querySelector('#df-610aed64-f67b-48ba-981c-c9d5d6b44044');\n",
              "          const dataTable =\n",
              "            await google.colab.kernel.invokeFunction('convertToInteractive',\n",
              "                                                     [key], {});\n",
              "          if (!dataTable) return;\n",
              "\n",
              "          const docLinkHtml = 'Like what you see? Visit the ' +\n",
              "            '<a target=\"_blank\" href=https://colab.research.google.com/notebooks/data_table.ipynb>data table notebook</a>'\n",
              "            + ' to learn more about interactive tables.';\n",
              "          element.innerHTML = '';\n",
              "          dataTable['output_type'] = 'display_data';\n",
              "          await google.colab.output.renderOutput(dataTable, element);\n",
              "          const docLink = document.createElement('div');\n",
              "          docLink.innerHTML = docLinkHtml;\n",
              "          element.appendChild(docLink);\n",
              "        }\n",
              "      </script>\n",
              "    </div>\n",
              "  </div>\n",
              "  "
            ]
          },
          "metadata": {},
          "execution_count": 94
        }
      ]
    },
    {
      "cell_type": "markdown",
      "source": [
        "### **Validating Data**"
      ],
      "metadata": {
        "id": "1bbRLQTyS9M2"
      }
    },
    {
      "cell_type": "code",
      "source": [
        "df.printSchema()"
      ],
      "metadata": {
        "colab": {
          "base_uri": "https://localhost:8080/"
        },
        "id": "t9kkk3tmS_wb",
        "outputId": "445a8ac1-35bf-4a79-97e5-9caf0d81c289"
      },
      "execution_count": 95,
      "outputs": [
        {
          "output_type": "stream",
          "name": "stdout",
          "text": [
            "root\n",
            " |-- gender: string (nullable = true)\n",
            " |-- race/ethnicity: string (nullable = true)\n",
            " |-- parental level of education: string (nullable = true)\n",
            " |-- lunch: string (nullable = true)\n",
            " |-- test preparation course: string (nullable = true)\n",
            " |-- math score: string (nullable = true)\n",
            " |-- reading score: string (nullable = true)\n",
            " |-- writing score: string (nullable = true)\n",
            "\n"
          ]
        }
      ]
    },
    {
      "cell_type": "code",
      "source": [
        "df.select('math score', 'reading score').summary('count', 'min', 'max').show()"
      ],
      "metadata": {
        "colab": {
          "base_uri": "https://localhost:8080/"
        },
        "id": "HoqMhpkASZQC",
        "outputId": "d7310c47-24e0-4367-96a6-5c4c3a640110"
      },
      "execution_count": 101,
      "outputs": [
        {
          "output_type": "stream",
          "name": "stdout",
          "text": [
            "+-------+----------+-------------+\n",
            "|summary|math score|reading score|\n",
            "+-------+----------+-------------+\n",
            "|  count|      1000|         1000|\n",
            "|    min|         0|          100|\n",
            "|    max|        99|           99|\n",
            "+-------+----------+-------------+\n",
            "\n"
          ]
        }
      ]
    },
    {
      "cell_type": "markdown",
      "source": [
        "### **Specify data types**"
      ],
      "metadata": {
        "id": "fHV7RH1OVeue"
      }
    },
    {
      "cell_type": "code",
      "source": [
        "from pyspark.sql.types import *"
      ],
      "metadata": {
        "id": "CnWUNrXGRn-a"
      },
      "execution_count": 102,
      "outputs": []
    },
    {
      "cell_type": "code",
      "source": [
        "data_schema = [StructField('name', StringType(), True),\n",
        "               StructField('email', StringType(), True),\n",
        "               StructField('city', StringType(), True),\n",
        "               StructField('mac', StringType(), True),\n",
        "               StructField('timestamp', DateType(), True),\n",
        "               StructField('creditcard', StringType(), True)\n",
        "]"
      ],
      "metadata": {
        "id": "D0r_xX9gVnw9"
      },
      "execution_count": 113,
      "outputs": []
    },
    {
      "cell_type": "code",
      "source": [
        "final_struc = StructType(fields = data_schema)"
      ],
      "metadata": {
        "id": "1PztlilGW2Lw"
      },
      "execution_count": 114,
      "outputs": []
    },
    {
      "cell_type": "code",
      "source": [
        "people = spark.read.json(DATASETS_DIR+'people.json', final_struc)"
      ],
      "metadata": {
        "id": "D88XoKzzW27-"
      },
      "execution_count": 115,
      "outputs": []
    },
    {
      "cell_type": "code",
      "source": [
        "people.printSchema()"
      ],
      "metadata": {
        "colab": {
          "base_uri": "https://localhost:8080/"
        },
        "id": "dRfJvETVX0yG",
        "outputId": "5d272d97-d313-4844-8585-177ebc1375a9"
      },
      "execution_count": 116,
      "outputs": [
        {
          "output_type": "stream",
          "name": "stdout",
          "text": [
            "root\n",
            " |-- name: string (nullable = true)\n",
            " |-- email: string (nullable = true)\n",
            " |-- city: string (nullable = true)\n",
            " |-- mac: string (nullable = true)\n",
            " |-- timestamp: date (nullable = true)\n",
            " |-- creditcard: string (nullable = true)\n",
            "\n"
          ]
        }
      ]
    },
    {
      "cell_type": "markdown",
      "source": [
        "### **Writing in Data**"
      ],
      "metadata": {
        "id": "XdTBYYxzY2Pm"
      }
    },
    {
      "cell_type": "code",
      "source": [
        "df.write.mode('overwrite').csv('write_test.csv')"
      ],
      "metadata": {
        "id": "WZlijLD7Y36c"
      },
      "execution_count": 117,
      "outputs": []
    },
    {
      "cell_type": "code",
      "source": [
        "# write a parquet\n",
        "users1_2.write.mode('overwrite').parquet('parquet/')"
      ],
      "metadata": {
        "id": "OpllqGgVZLmp"
      },
      "execution_count": 121,
      "outputs": []
    },
    {
      "cell_type": "code",
      "source": [
        "# partition data into two \n",
        "users1_2.write.mode('overwrite').partitionBy('gender').parquet('part_parquet/')"
      ],
      "metadata": {
        "id": "JUtjLc2zZyhY"
      },
      "execution_count": 122,
      "outputs": []
    }
  ]
}